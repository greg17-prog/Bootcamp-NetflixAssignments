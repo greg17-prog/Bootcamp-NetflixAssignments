{
 "cells": [
  {
   "cell_type": "code",
   "execution_count": null,
   "id": "aa3dcd16",
   "metadata": {},
   "outputs": [],
   "source": [
    "4. Write a query that selects all the employees who were born between January 1, 1952 and December 31, 1955 and their titles and title date ranges. Order the results by `emp_no`.\n",
    "\n",
    "select employees.emp_no, employees.first_name, employees.last_name, titles.title, titles.from_date, titles.to_date\n",
    "from employees\n",
    "inner join titles\n",
    "on employees.emp_no = titles.emp_no\n",
    "where employees.birth_date between '1952-01-01' and '1955-12-31'\n",
    "order by employees.emp_no\n",
    "\n",
    "5. Write another query that builds off of the previous query, but selects only the current title for each employee.\n",
    "\n",
    "select distinct on (employees.emp_no)employees.emp_no, employees.first_name, employees.last_name, titles.title\n",
    "from employees\n",
    "join titles using (emp_no)\n",
    "where employees.birth_date between '1952-01-01' and '1955-12-31'\n",
    "order by employees.emp_no, titles.title desc\n",
    "\n",
    "6. Write a query that counts the total number of employees about to retire by their current job title.\n",
    "\n",
    "select count(employees.emp_no),titles.title\n",
    "from employees\n",
    "join titles using (emp_no)\n",
    "where employees.birth_date between '1952-01-01' and '1955-12-31'\n",
    "group by title\n",
    "order by count(title) desc\n",
    "\n",
    "7. Write a query to count the total number of employees per department.\n",
    "\n",
    "select distinct on(departments.dept_name)departments.dept_name, count(employees.emp_no)\n",
    "from employees\n",
    "join dept_emp on (employees.emp_no = dept_emp.emp_no)\n",
    "Join departments on (departments.dept_no = dept_emp.dept_no)\n",
    "group by departments.dept_name"
   ]
  }
 ],
 "metadata": {
  "kernelspec": {
   "display_name": "Python 3",
   "language": "python",
   "name": "python3"
  },
  "language_info": {
   "codemirror_mode": {
    "name": "ipython",
    "version": 3
   },
   "file_extension": ".py",
   "mimetype": "text/x-python",
   "name": "python",
   "nbconvert_exporter": "python",
   "pygments_lexer": "ipython3",
   "version": "3.8.8"
  }
 },
 "nbformat": 4,
 "nbformat_minor": 5
}
