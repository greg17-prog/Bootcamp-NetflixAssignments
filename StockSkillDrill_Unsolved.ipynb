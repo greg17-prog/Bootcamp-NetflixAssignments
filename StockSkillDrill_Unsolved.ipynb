{
 "cells": [
  {
   "cell_type": "code",
   "execution_count": 55,
   "metadata": {},
   "outputs": [],
   "source": [
    "# Import the 'os' and 'csv' libraries\n",
    "import os\n",
    "import csv"
   ]
  },
  {
   "cell_type": "code",
   "execution_count": 56,
   "metadata": {},
   "outputs": [
    {
     "data": {
      "text/plain": [
       "'Netflix-HW\\\\../Resources\\\\yahoo_stock.csv'"
      ]
     },
     "execution_count": 56,
     "metadata": {},
     "output_type": "execute_result"
    }
   ],
   "source": [
    "# Set path for importing our CSV file\n",
    "csvpath = os.path.join(\"Netflix-HW\", \"../\", \"Resources\", \"yahoo_stock.csv\")\n",
    "csvpath"
   ]
  },
  {
   "cell_type": "code",
   "execution_count": 57,
   "metadata": {},
   "outputs": [
    {
     "name": "stdout",
     "output_type": "stream",
     "text": [
      "Date: 3/13/2020 \n",
      "Stock High: 2711.330078 \n",
      "Stock Low: 2492.370117 \n",
      "Volume: 8258670000\n"
     ]
    }
   ],
   "source": [
    "# Open a connection to the comma-delimited csv file \n",
    "with open(csvpath) as csvfile:\n",
    "    # Read in the CSV file using csv.DictReader() class\n",
    "    csvreader = csv.DictReader(csvfile, delimiter=\",\")\n",
    "    # Create a variable to save our print row and greatest daily percent change\n",
    "    print_row = 0\n",
    "    greatest_daily_percentage_change = 0\n",
    "    # Iterate through each row\n",
    "    for each_row in csvreader:    \n",
    "        # For each row, calculate the daily percent change\n",
    "        daily_percentage_change = (float(each_row[\"Close\"]) - float(each_row[\"Open\"])) / float(each_row[\"Open\"])*100\n",
    "        # Check if the absolute daily percent change is greater than the previous max\n",
    "        if daily_percentage_change > greatest_daily_percentage_change:      \n",
    "            # If true, store new greatest daily percent change and print row\n",
    "            greatest_daily_percentage_change = daily_percentage_change\n",
    "            print_row = each_row\n",
    "    # Print out the date, stock high, stock low, volume and percent change for the day with the greatest percent change\n",
    "    print(\"Date:\" ,print_row[\"Date\"], \n",
    "          \"\\nStock High:\",print_row[\"High\"], \n",
    "          \"\\nStock Low:\", print_row[\"Low\"], \n",
    "          \"\\nVolume:\", print_row[\"Volume\"] )"
   ]
  },
  {
   "cell_type": "code",
   "execution_count": null,
   "metadata": {},
   "outputs": [],
   "source": []
  }
 ],
 "metadata": {
  "kernelspec": {
   "display_name": "Python 3",
   "language": "python",
   "name": "python3"
  },
  "language_info": {
   "codemirror_mode": {
    "name": "ipython",
    "version": 3
   },
   "file_extension": ".py",
   "mimetype": "text/x-python",
   "name": "python",
   "nbconvert_exporter": "python",
   "pygments_lexer": "ipython3",
   "version": "3.8.8"
  }
 },
 "nbformat": 4,
 "nbformat_minor": 4
}
